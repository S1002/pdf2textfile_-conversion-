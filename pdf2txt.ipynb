{
 "cells": [
  {
   "cell_type": "code",
   "execution_count": null,
   "id": "0b6411c6",
   "metadata": {},
   "outputs": [],
   "source": [
    "from PyPDF2 import PdfFileReader, PdfFileWriter\n",
    "import os\n",
    "\n",
    "path=r'E:/PPT/pdf/'\n",
    "des=r'E:/PPT/pdf/pdf2txt/'\n",
    "a=1\n",
    "for r, d, f in os.walk(path):\n",
    "    for file in f:\n",
    "        if '.pdf' in file:\n",
    "            file_path=(os.path.join(r, file))\n",
    "            pdf = PdfFileReader(file_path,strict=False)\n",
    "            with open(os.path.join(des, (os.path.splitext(file)[0].lower())+'.txt'), 'w',encoding='utf-8') as f:\n",
    "                for page_num in range(pdf.numPages):\n",
    "                    # print('Page: {0}'.format(page_num))\n",
    "                    pageObj = pdf.getPage(page_num)\n",
    "                    try:\n",
    "                        txt = pageObj.extractText()\n",
    "                    except:\n",
    "                        pass\n",
    "                    else:\n",
    "                        f.write(txt)\n",
    "            f.close()\n",
    "            print(a)\n",
    "            a=a+1"
   ]
  },
  {
   "cell_type": "code",
   "execution_count": null,
   "id": "4458f5dc",
   "metadata": {},
   "outputs": [],
   "source": []
  }
 ],
 "metadata": {
  "kernelspec": {
   "display_name": "Python 3",
   "language": "python",
   "name": "python3"
  },
  "language_info": {
   "codemirror_mode": {
    "name": "ipython",
    "version": 3
   },
   "file_extension": ".py",
   "mimetype": "text/x-python",
   "name": "python",
   "nbconvert_exporter": "python",
   "pygments_lexer": "ipython3",
   "version": "3.6.13"
  }
 },
 "nbformat": 4,
 "nbformat_minor": 5
}
